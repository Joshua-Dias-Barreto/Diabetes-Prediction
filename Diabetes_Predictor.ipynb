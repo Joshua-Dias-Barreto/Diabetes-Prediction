{
  "nbformat": 4,
  "nbformat_minor": 0,
  "metadata": {
    "colab": {
      "provenance": [],
      "authorship_tag": "ABX9TyOu//QGupj7akYtOiiRaeTa",
      "include_colab_link": true
    },
    "kernelspec": {
      "name": "python3",
      "display_name": "Python 3"
    },
    "language_info": {
      "name": "python"
    }
  },
  "cells": [
    {
      "cell_type": "markdown",
      "metadata": {
        "id": "view-in-github",
        "colab_type": "text"
      },
      "source": [
        "<a href=\"https://colab.research.google.com/github/Joshua-Dias-Barreto/Diabetes-Predictor/blob/main/Diabetes_Predictor.ipynb\" target=\"_parent\"><img src=\"https://colab.research.google.com/assets/colab-badge.svg\" alt=\"Open In Colab\"/></a>"
      ]
    },
    {
      "cell_type": "markdown",
      "source": [
        "# **Diabetes Prediction**\n",
        "\n",
        "The objective of this project is to accurately predict whether a patient has diabetes or not based on certain factors such as their insulin level, skin thickness, age, blood pressure, pregnancies, glucose and BMI.\n",
        "\n",
        "\n",
        "#Importing the necessary packages:"
      ],
      "metadata": {
        "id": "aU9BKFtAhMWX"
      }
    },
    {
      "cell_type": "code",
      "execution_count": null,
      "metadata": {
        "id": "AOMVgjNymd74"
      },
      "outputs": [],
      "source": [
        "import pandas as pd\n",
        "import matplotlib as plt\n",
        "from sklearn.preprocessing import StandardScaler\n",
        "import numpy as np\n",
        "from sklearn.model_selection import train_test_split\n"
      ]
    },
    {
      "cell_type": "markdown",
      "source": [
        "#Viewing the first five rows of the dataset"
      ],
      "metadata": {
        "id": "_ImArMEyhKT3"
      }
    },
    {
      "cell_type": "code",
      "source": [
        "df=pd.read_csv('/content/diabetes.csv')\n",
        "df.head()"
      ],
      "metadata": {
        "colab": {
          "base_uri": "https://localhost:8080/",
          "height": 250
        },
        "id": "pcM1dwXk1WqJ",
        "outputId": "71f5431d-aa42-4852-f2db-6d3aa2343b82"
      },
      "execution_count": null,
      "outputs": [
        {
          "output_type": "execute_result",
          "data": {
            "text/plain": [
              "   Pregnancies  Glucose  BloodPressure  SkinThickness  Insulin   BMI  \\\n",
              "0            6      148             72             35        0  33.6   \n",
              "1            1       85             66             29        0  26.6   \n",
              "2            8      183             64              0        0  23.3   \n",
              "3            1       89             66             23       94  28.1   \n",
              "4            0      137             40             35      168  43.1   \n",
              "\n",
              "   DiabetesPedigreeFunction  Age  Outcome  \n",
              "0                     0.627   50        1  \n",
              "1                     0.351   31        0  \n",
              "2                     0.672   32        1  \n",
              "3                     0.167   21        0  \n",
              "4                     2.288   33        1  "
            ],
            "text/html": [
              "\n",
              "  <div id=\"df-f8c5d665-ed04-42f8-8fab-f0d270aa7919\">\n",
              "    <div class=\"colab-df-container\">\n",
              "      <div>\n",
              "<style scoped>\n",
              "    .dataframe tbody tr th:only-of-type {\n",
              "        vertical-align: middle;\n",
              "    }\n",
              "\n",
              "    .dataframe tbody tr th {\n",
              "        vertical-align: top;\n",
              "    }\n",
              "\n",
              "    .dataframe thead th {\n",
              "        text-align: right;\n",
              "    }\n",
              "</style>\n",
              "<table border=\"1\" class=\"dataframe\">\n",
              "  <thead>\n",
              "    <tr style=\"text-align: right;\">\n",
              "      <th></th>\n",
              "      <th>Pregnancies</th>\n",
              "      <th>Glucose</th>\n",
              "      <th>BloodPressure</th>\n",
              "      <th>SkinThickness</th>\n",
              "      <th>Insulin</th>\n",
              "      <th>BMI</th>\n",
              "      <th>DiabetesPedigreeFunction</th>\n",
              "      <th>Age</th>\n",
              "      <th>Outcome</th>\n",
              "    </tr>\n",
              "  </thead>\n",
              "  <tbody>\n",
              "    <tr>\n",
              "      <th>0</th>\n",
              "      <td>6</td>\n",
              "      <td>148</td>\n",
              "      <td>72</td>\n",
              "      <td>35</td>\n",
              "      <td>0</td>\n",
              "      <td>33.6</td>\n",
              "      <td>0.627</td>\n",
              "      <td>50</td>\n",
              "      <td>1</td>\n",
              "    </tr>\n",
              "    <tr>\n",
              "      <th>1</th>\n",
              "      <td>1</td>\n",
              "      <td>85</td>\n",
              "      <td>66</td>\n",
              "      <td>29</td>\n",
              "      <td>0</td>\n",
              "      <td>26.6</td>\n",
              "      <td>0.351</td>\n",
              "      <td>31</td>\n",
              "      <td>0</td>\n",
              "    </tr>\n",
              "    <tr>\n",
              "      <th>2</th>\n",
              "      <td>8</td>\n",
              "      <td>183</td>\n",
              "      <td>64</td>\n",
              "      <td>0</td>\n",
              "      <td>0</td>\n",
              "      <td>23.3</td>\n",
              "      <td>0.672</td>\n",
              "      <td>32</td>\n",
              "      <td>1</td>\n",
              "    </tr>\n",
              "    <tr>\n",
              "      <th>3</th>\n",
              "      <td>1</td>\n",
              "      <td>89</td>\n",
              "      <td>66</td>\n",
              "      <td>23</td>\n",
              "      <td>94</td>\n",
              "      <td>28.1</td>\n",
              "      <td>0.167</td>\n",
              "      <td>21</td>\n",
              "      <td>0</td>\n",
              "    </tr>\n",
              "    <tr>\n",
              "      <th>4</th>\n",
              "      <td>0</td>\n",
              "      <td>137</td>\n",
              "      <td>40</td>\n",
              "      <td>35</td>\n",
              "      <td>168</td>\n",
              "      <td>43.1</td>\n",
              "      <td>2.288</td>\n",
              "      <td>33</td>\n",
              "      <td>1</td>\n",
              "    </tr>\n",
              "  </tbody>\n",
              "</table>\n",
              "</div>\n",
              "      <button class=\"colab-df-convert\" onclick=\"convertToInteractive('df-f8c5d665-ed04-42f8-8fab-f0d270aa7919')\"\n",
              "              title=\"Convert this dataframe to an interactive table.\"\n",
              "              style=\"display:none;\">\n",
              "        \n",
              "  <svg xmlns=\"http://www.w3.org/2000/svg\" height=\"24px\"viewBox=\"0 0 24 24\"\n",
              "       width=\"24px\">\n",
              "    <path d=\"M0 0h24v24H0V0z\" fill=\"none\"/>\n",
              "    <path d=\"M18.56 5.44l.94 2.06.94-2.06 2.06-.94-2.06-.94-.94-2.06-.94 2.06-2.06.94zm-11 1L8.5 8.5l.94-2.06 2.06-.94-2.06-.94L8.5 2.5l-.94 2.06-2.06.94zm10 10l.94 2.06.94-2.06 2.06-.94-2.06-.94-.94-2.06-.94 2.06-2.06.94z\"/><path d=\"M17.41 7.96l-1.37-1.37c-.4-.4-.92-.59-1.43-.59-.52 0-1.04.2-1.43.59L10.3 9.45l-7.72 7.72c-.78.78-.78 2.05 0 2.83L4 21.41c.39.39.9.59 1.41.59.51 0 1.02-.2 1.41-.59l7.78-7.78 2.81-2.81c.8-.78.8-2.07 0-2.86zM5.41 20L4 18.59l7.72-7.72 1.47 1.35L5.41 20z\"/>\n",
              "  </svg>\n",
              "      </button>\n",
              "      \n",
              "  <style>\n",
              "    .colab-df-container {\n",
              "      display:flex;\n",
              "      flex-wrap:wrap;\n",
              "      gap: 12px;\n",
              "    }\n",
              "\n",
              "    .colab-df-convert {\n",
              "      background-color: #E8F0FE;\n",
              "      border: none;\n",
              "      border-radius: 50%;\n",
              "      cursor: pointer;\n",
              "      display: none;\n",
              "      fill: #1967D2;\n",
              "      height: 32px;\n",
              "      padding: 0 0 0 0;\n",
              "      width: 32px;\n",
              "    }\n",
              "\n",
              "    .colab-df-convert:hover {\n",
              "      background-color: #E2EBFA;\n",
              "      box-shadow: 0px 1px 2px rgba(60, 64, 67, 0.3), 0px 1px 3px 1px rgba(60, 64, 67, 0.15);\n",
              "      fill: #174EA6;\n",
              "    }\n",
              "\n",
              "    [theme=dark] .colab-df-convert {\n",
              "      background-color: #3B4455;\n",
              "      fill: #D2E3FC;\n",
              "    }\n",
              "\n",
              "    [theme=dark] .colab-df-convert:hover {\n",
              "      background-color: #434B5C;\n",
              "      box-shadow: 0px 1px 3px 1px rgba(0, 0, 0, 0.15);\n",
              "      filter: drop-shadow(0px 1px 2px rgba(0, 0, 0, 0.3));\n",
              "      fill: #FFFFFF;\n",
              "    }\n",
              "  </style>\n",
              "\n",
              "      <script>\n",
              "        const buttonEl =\n",
              "          document.querySelector('#df-f8c5d665-ed04-42f8-8fab-f0d270aa7919 button.colab-df-convert');\n",
              "        buttonEl.style.display =\n",
              "          google.colab.kernel.accessAllowed ? 'block' : 'none';\n",
              "\n",
              "        async function convertToInteractive(key) {\n",
              "          const element = document.querySelector('#df-f8c5d665-ed04-42f8-8fab-f0d270aa7919');\n",
              "          const dataTable =\n",
              "            await google.colab.kernel.invokeFunction('convertToInteractive',\n",
              "                                                     [key], {});\n",
              "          if (!dataTable) return;\n",
              "\n",
              "          const docLinkHtml = 'Like what you see? Visit the ' +\n",
              "            '<a target=\"_blank\" href=https://colab.research.google.com/notebooks/data_table.ipynb>data table notebook</a>'\n",
              "            + ' to learn more about interactive tables.';\n",
              "          element.innerHTML = '';\n",
              "          dataTable['output_type'] = 'display_data';\n",
              "          await google.colab.output.renderOutput(dataTable, element);\n",
              "          const docLink = document.createElement('div');\n",
              "          docLink.innerHTML = docLinkHtml;\n",
              "          element.appendChild(docLink);\n",
              "        }\n",
              "      </script>\n",
              "    </div>\n",
              "  </div>\n",
              "  "
            ]
          },
          "metadata": {},
          "execution_count": 2
        }
      ]
    },
    {
      "cell_type": "markdown",
      "source": [
        "# Checking if there are any null values present in the dataset\n",
        "\n",
        "Since there are no null values in this dataset, there is no need to delete or impute any values"
      ],
      "metadata": {
        "id": "HQuwSc8fkDy5"
      }
    },
    {
      "cell_type": "code",
      "source": [
        "df.isnull().sum()"
      ],
      "metadata": {
        "id": "0q6zaqQk2glk",
        "colab": {
          "base_uri": "https://localhost:8080/"
        },
        "outputId": "5fb658cf-72f9-466f-c344-fe13b04c7116"
      },
      "execution_count": null,
      "outputs": [
        {
          "output_type": "execute_result",
          "data": {
            "text/plain": [
              "Pregnancies                 0\n",
              "Glucose                     0\n",
              "BloodPressure               0\n",
              "SkinThickness               0\n",
              "Insulin                     0\n",
              "BMI                         0\n",
              "DiabetesPedigreeFunction    0\n",
              "Age                         0\n",
              "Outcome                     0\n",
              "dtype: int64"
            ]
          },
          "metadata": {},
          "execution_count": 3
        }
      ]
    },
    {
      "cell_type": "markdown",
      "source": [
        "# Obtaining statistical data of each feature (column) in the dataset "
      ],
      "metadata": {
        "id": "PWs3Ffhpk_lx"
      }
    },
    {
      "cell_type": "code",
      "source": [
        "df.describe()"
      ],
      "metadata": {
        "id": "UeT0T2rL29iO",
        "colab": {
          "base_uri": "https://localhost:8080/",
          "height": 364
        },
        "outputId": "aa057c4c-1593-41a4-d5e2-275649b8a581"
      },
      "execution_count": null,
      "outputs": [
        {
          "output_type": "execute_result",
          "data": {
            "text/plain": [
              "       Pregnancies     Glucose  BloodPressure  SkinThickness     Insulin  \\\n",
              "count   768.000000  768.000000     768.000000     768.000000  768.000000   \n",
              "mean      3.845052  120.894531      69.105469      20.536458   79.799479   \n",
              "std       3.369578   31.972618      19.355807      15.952218  115.244002   \n",
              "min       0.000000    0.000000       0.000000       0.000000    0.000000   \n",
              "25%       1.000000   99.000000      62.000000       0.000000    0.000000   \n",
              "50%       3.000000  117.000000      72.000000      23.000000   30.500000   \n",
              "75%       6.000000  140.250000      80.000000      32.000000  127.250000   \n",
              "max      17.000000  199.000000     122.000000      99.000000  846.000000   \n",
              "\n",
              "              BMI  DiabetesPedigreeFunction         Age     Outcome  \n",
              "count  768.000000                768.000000  768.000000  768.000000  \n",
              "mean    31.992578                  0.471876   33.240885    0.348958  \n",
              "std      7.884160                  0.331329   11.760232    0.476951  \n",
              "min      0.000000                  0.078000   21.000000    0.000000  \n",
              "25%     27.300000                  0.243750   24.000000    0.000000  \n",
              "50%     32.000000                  0.372500   29.000000    0.000000  \n",
              "75%     36.600000                  0.626250   41.000000    1.000000  \n",
              "max     67.100000                  2.420000   81.000000    1.000000  "
            ],
            "text/html": [
              "\n",
              "  <div id=\"df-e923623a-1826-4439-bbdf-3c2d96ed1aea\">\n",
              "    <div class=\"colab-df-container\">\n",
              "      <div>\n",
              "<style scoped>\n",
              "    .dataframe tbody tr th:only-of-type {\n",
              "        vertical-align: middle;\n",
              "    }\n",
              "\n",
              "    .dataframe tbody tr th {\n",
              "        vertical-align: top;\n",
              "    }\n",
              "\n",
              "    .dataframe thead th {\n",
              "        text-align: right;\n",
              "    }\n",
              "</style>\n",
              "<table border=\"1\" class=\"dataframe\">\n",
              "  <thead>\n",
              "    <tr style=\"text-align: right;\">\n",
              "      <th></th>\n",
              "      <th>Pregnancies</th>\n",
              "      <th>Glucose</th>\n",
              "      <th>BloodPressure</th>\n",
              "      <th>SkinThickness</th>\n",
              "      <th>Insulin</th>\n",
              "      <th>BMI</th>\n",
              "      <th>DiabetesPedigreeFunction</th>\n",
              "      <th>Age</th>\n",
              "      <th>Outcome</th>\n",
              "    </tr>\n",
              "  </thead>\n",
              "  <tbody>\n",
              "    <tr>\n",
              "      <th>count</th>\n",
              "      <td>768.000000</td>\n",
              "      <td>768.000000</td>\n",
              "      <td>768.000000</td>\n",
              "      <td>768.000000</td>\n",
              "      <td>768.000000</td>\n",
              "      <td>768.000000</td>\n",
              "      <td>768.000000</td>\n",
              "      <td>768.000000</td>\n",
              "      <td>768.000000</td>\n",
              "    </tr>\n",
              "    <tr>\n",
              "      <th>mean</th>\n",
              "      <td>3.845052</td>\n",
              "      <td>120.894531</td>\n",
              "      <td>69.105469</td>\n",
              "      <td>20.536458</td>\n",
              "      <td>79.799479</td>\n",
              "      <td>31.992578</td>\n",
              "      <td>0.471876</td>\n",
              "      <td>33.240885</td>\n",
              "      <td>0.348958</td>\n",
              "    </tr>\n",
              "    <tr>\n",
              "      <th>std</th>\n",
              "      <td>3.369578</td>\n",
              "      <td>31.972618</td>\n",
              "      <td>19.355807</td>\n",
              "      <td>15.952218</td>\n",
              "      <td>115.244002</td>\n",
              "      <td>7.884160</td>\n",
              "      <td>0.331329</td>\n",
              "      <td>11.760232</td>\n",
              "      <td>0.476951</td>\n",
              "    </tr>\n",
              "    <tr>\n",
              "      <th>min</th>\n",
              "      <td>0.000000</td>\n",
              "      <td>0.000000</td>\n",
              "      <td>0.000000</td>\n",
              "      <td>0.000000</td>\n",
              "      <td>0.000000</td>\n",
              "      <td>0.000000</td>\n",
              "      <td>0.078000</td>\n",
              "      <td>21.000000</td>\n",
              "      <td>0.000000</td>\n",
              "    </tr>\n",
              "    <tr>\n",
              "      <th>25%</th>\n",
              "      <td>1.000000</td>\n",
              "      <td>99.000000</td>\n",
              "      <td>62.000000</td>\n",
              "      <td>0.000000</td>\n",
              "      <td>0.000000</td>\n",
              "      <td>27.300000</td>\n",
              "      <td>0.243750</td>\n",
              "      <td>24.000000</td>\n",
              "      <td>0.000000</td>\n",
              "    </tr>\n",
              "    <tr>\n",
              "      <th>50%</th>\n",
              "      <td>3.000000</td>\n",
              "      <td>117.000000</td>\n",
              "      <td>72.000000</td>\n",
              "      <td>23.000000</td>\n",
              "      <td>30.500000</td>\n",
              "      <td>32.000000</td>\n",
              "      <td>0.372500</td>\n",
              "      <td>29.000000</td>\n",
              "      <td>0.000000</td>\n",
              "    </tr>\n",
              "    <tr>\n",
              "      <th>75%</th>\n",
              "      <td>6.000000</td>\n",
              "      <td>140.250000</td>\n",
              "      <td>80.000000</td>\n",
              "      <td>32.000000</td>\n",
              "      <td>127.250000</td>\n",
              "      <td>36.600000</td>\n",
              "      <td>0.626250</td>\n",
              "      <td>41.000000</td>\n",
              "      <td>1.000000</td>\n",
              "    </tr>\n",
              "    <tr>\n",
              "      <th>max</th>\n",
              "      <td>17.000000</td>\n",
              "      <td>199.000000</td>\n",
              "      <td>122.000000</td>\n",
              "      <td>99.000000</td>\n",
              "      <td>846.000000</td>\n",
              "      <td>67.100000</td>\n",
              "      <td>2.420000</td>\n",
              "      <td>81.000000</td>\n",
              "      <td>1.000000</td>\n",
              "    </tr>\n",
              "  </tbody>\n",
              "</table>\n",
              "</div>\n",
              "      <button class=\"colab-df-convert\" onclick=\"convertToInteractive('df-e923623a-1826-4439-bbdf-3c2d96ed1aea')\"\n",
              "              title=\"Convert this dataframe to an interactive table.\"\n",
              "              style=\"display:none;\">\n",
              "        \n",
              "  <svg xmlns=\"http://www.w3.org/2000/svg\" height=\"24px\"viewBox=\"0 0 24 24\"\n",
              "       width=\"24px\">\n",
              "    <path d=\"M0 0h24v24H0V0z\" fill=\"none\"/>\n",
              "    <path d=\"M18.56 5.44l.94 2.06.94-2.06 2.06-.94-2.06-.94-.94-2.06-.94 2.06-2.06.94zm-11 1L8.5 8.5l.94-2.06 2.06-.94-2.06-.94L8.5 2.5l-.94 2.06-2.06.94zm10 10l.94 2.06.94-2.06 2.06-.94-2.06-.94-.94-2.06-.94 2.06-2.06.94z\"/><path d=\"M17.41 7.96l-1.37-1.37c-.4-.4-.92-.59-1.43-.59-.52 0-1.04.2-1.43.59L10.3 9.45l-7.72 7.72c-.78.78-.78 2.05 0 2.83L4 21.41c.39.39.9.59 1.41.59.51 0 1.02-.2 1.41-.59l7.78-7.78 2.81-2.81c.8-.78.8-2.07 0-2.86zM5.41 20L4 18.59l7.72-7.72 1.47 1.35L5.41 20z\"/>\n",
              "  </svg>\n",
              "      </button>\n",
              "      \n",
              "  <style>\n",
              "    .colab-df-container {\n",
              "      display:flex;\n",
              "      flex-wrap:wrap;\n",
              "      gap: 12px;\n",
              "    }\n",
              "\n",
              "    .colab-df-convert {\n",
              "      background-color: #E8F0FE;\n",
              "      border: none;\n",
              "      border-radius: 50%;\n",
              "      cursor: pointer;\n",
              "      display: none;\n",
              "      fill: #1967D2;\n",
              "      height: 32px;\n",
              "      padding: 0 0 0 0;\n",
              "      width: 32px;\n",
              "    }\n",
              "\n",
              "    .colab-df-convert:hover {\n",
              "      background-color: #E2EBFA;\n",
              "      box-shadow: 0px 1px 2px rgba(60, 64, 67, 0.3), 0px 1px 3px 1px rgba(60, 64, 67, 0.15);\n",
              "      fill: #174EA6;\n",
              "    }\n",
              "\n",
              "    [theme=dark] .colab-df-convert {\n",
              "      background-color: #3B4455;\n",
              "      fill: #D2E3FC;\n",
              "    }\n",
              "\n",
              "    [theme=dark] .colab-df-convert:hover {\n",
              "      background-color: #434B5C;\n",
              "      box-shadow: 0px 1px 3px 1px rgba(0, 0, 0, 0.15);\n",
              "      filter: drop-shadow(0px 1px 2px rgba(0, 0, 0, 0.3));\n",
              "      fill: #FFFFFF;\n",
              "    }\n",
              "  </style>\n",
              "\n",
              "      <script>\n",
              "        const buttonEl =\n",
              "          document.querySelector('#df-e923623a-1826-4439-bbdf-3c2d96ed1aea button.colab-df-convert');\n",
              "        buttonEl.style.display =\n",
              "          google.colab.kernel.accessAllowed ? 'block' : 'none';\n",
              "\n",
              "        async function convertToInteractive(key) {\n",
              "          const element = document.querySelector('#df-e923623a-1826-4439-bbdf-3c2d96ed1aea');\n",
              "          const dataTable =\n",
              "            await google.colab.kernel.invokeFunction('convertToInteractive',\n",
              "                                                     [key], {});\n",
              "          if (!dataTable) return;\n",
              "\n",
              "          const docLinkHtml = 'Like what you see? Visit the ' +\n",
              "            '<a target=\"_blank\" href=https://colab.research.google.com/notebooks/data_table.ipynb>data table notebook</a>'\n",
              "            + ' to learn more about interactive tables.';\n",
              "          element.innerHTML = '';\n",
              "          dataTable['output_type'] = 'display_data';\n",
              "          await google.colab.output.renderOutput(dataTable, element);\n",
              "          const docLink = document.createElement('div');\n",
              "          docLink.innerHTML = docLinkHtml;\n",
              "          element.appendChild(docLink);\n",
              "        }\n",
              "      </script>\n",
              "    </div>\n",
              "  </div>\n",
              "  "
            ]
          },
          "metadata": {},
          "execution_count": 4
        }
      ]
    },
    {
      "cell_type": "code",
      "source": [
        "df.shape"
      ],
      "metadata": {
        "id": "ZqiebIT43MbK",
        "colab": {
          "base_uri": "https://localhost:8080/"
        },
        "outputId": "342396bb-4c39-4ae8-b62e-a6337e4f628b"
      },
      "execution_count": null,
      "outputs": [
        {
          "output_type": "execute_result",
          "data": {
            "text/plain": [
              "(768, 9)"
            ]
          },
          "metadata": {},
          "execution_count": 5
        }
      ]
    },
    {
      "cell_type": "markdown",
      "source": [
        "# Checking if there is sufficient data for both, people with diabetes and people who didn't have diabetes\n",
        "\n",
        "In this dataset, 268 people had diabetes, while 500 people didn't."
      ],
      "metadata": {
        "id": "wu9F1HGflp1j"
      }
    },
    {
      "cell_type": "code",
      "source": [
        "df[\"Outcome\"].value_counts()"
      ],
      "metadata": {
        "id": "sIH6lXu03Yhu",
        "colab": {
          "base_uri": "https://localhost:8080/"
        },
        "outputId": "491f6777-faab-41a5-e33a-dc188d82785d"
      },
      "execution_count": null,
      "outputs": [
        {
          "output_type": "execute_result",
          "data": {
            "text/plain": [
              "0    500\n",
              "1    268\n",
              "Name: Outcome, dtype: int64"
            ]
          },
          "metadata": {},
          "execution_count": 6
        }
      ]
    },
    {
      "cell_type": "markdown",
      "source": [
        "df.drop(columns=\"Outcome\",axis=1) Assigns all the feature columns of the dataset to X1 except the Outcome column .\n",
        "\n",
        "The Outcome column is assigned to y ."
      ],
      "metadata": {
        "id": "CsgExklqgszp"
      }
    },
    {
      "cell_type": "code",
      "source": [
        "X1=df.drop(columns=\"Outcome\",axis=1)\n",
        "y=df[\"Outcome\"]"
      ],
      "metadata": {
        "id": "LgGz3e024KH6"
      },
      "execution_count": null,
      "outputs": []
    },
    {
      "cell_type": "markdown",
      "source": [
        "# **Standardizing the Data**\n",
        "\n",
        "Standardization makes all variables contribute equally. All SVM kernel methods are based on distance, hence it is necessary to scale variables prior to running the final Support Vector Machine (SVM) model.\n",
        "\n",
        "The standardScaler() ,standardizes features by removing the mean and scaling to unit variance."
      ],
      "metadata": {
        "id": "ur3VLZAHhR8i"
      }
    },
    {
      "cell_type": "code",
      "source": [
        "X=StandardScaler().fit_transform(X1)\n",
        "print(X)"
      ],
      "metadata": {
        "id": "W_Rgaayu5Zb2",
        "colab": {
          "base_uri": "https://localhost:8080/"
        },
        "outputId": "b60d3363-e3db-45a4-d47a-7e54cbea6a71"
      },
      "execution_count": null,
      "outputs": [
        {
          "output_type": "stream",
          "name": "stdout",
          "text": [
            "[[ 0.63994726  0.84832379  0.14964075 ...  0.20401277  0.46849198\n",
            "   1.4259954 ]\n",
            " [-0.84488505 -1.12339636 -0.16054575 ... -0.68442195 -0.36506078\n",
            "  -0.19067191]\n",
            " [ 1.23388019  1.94372388 -0.26394125 ... -1.10325546  0.60439732\n",
            "  -0.10558415]\n",
            " ...\n",
            " [ 0.3429808   0.00330087  0.14964075 ... -0.73518964 -0.68519336\n",
            "  -0.27575966]\n",
            " [-0.84488505  0.1597866  -0.47073225 ... -0.24020459 -0.37110101\n",
            "   1.17073215]\n",
            " [-0.84488505 -0.8730192   0.04624525 ... -0.20212881 -0.47378505\n",
            "  -0.87137393]]\n"
          ]
        }
      ]
    },
    {
      "cell_type": "markdown",
      "source": [
        "# **Splitting the dataset into a training and testing dataset**\n",
        "**test_size = 0.3 :**\n",
        "\n",
        "- 30% of the dataset is kept for testing while the model is trained on the rest of the 70%.\n",
        "\n",
        "**stratify = y :**\n",
        "\n",
        "- This is done so that there are sufficient positive and negative diabetic outcomes in both, the training dataset and the testing dataset."
      ],
      "metadata": {
        "id": "F3uhJFR6iP-X"
      }
    },
    {
      "cell_type": "code",
      "source": [
        "X_train,X_test,y_train,y_test=train_test_split(X,y,test_size=0.3,random_state=3,stratify=y)"
      ],
      "metadata": {
        "id": "CLUuJttJ4wwh"
      },
      "execution_count": null,
      "outputs": []
    },
    {
      "cell_type": "markdown",
      "source": [
        "# It can be seen that there is a uniform distribution of 0's and 1's in the testing and training dataset."
      ],
      "metadata": {
        "id": "dYtsLsrAjjIS"
      }
    },
    {
      "cell_type": "code",
      "source": [
        "y_test.value_counts()"
      ],
      "metadata": {
        "id": "nxLs3mk-55WQ",
        "colab": {
          "base_uri": "https://localhost:8080/"
        },
        "outputId": "70fc61ef-8829-4ddd-8bac-a9369b089be5"
      },
      "execution_count": null,
      "outputs": [
        {
          "output_type": "execute_result",
          "data": {
            "text/plain": [
              "0    150\n",
              "1     81\n",
              "Name: Outcome, dtype: int64"
            ]
          },
          "metadata": {},
          "execution_count": 10
        }
      ]
    },
    {
      "cell_type": "code",
      "source": [
        "y_train.value_counts()"
      ],
      "metadata": {
        "id": "8z303tB36OWi",
        "colab": {
          "base_uri": "https://localhost:8080/"
        },
        "outputId": "fd9c99a5-0603-4ab5-b54b-96ded4b40833"
      },
      "execution_count": null,
      "outputs": [
        {
          "output_type": "execute_result",
          "data": {
            "text/plain": [
              "0    350\n",
              "1    187\n",
              "Name: Outcome, dtype: int64"
            ]
          },
          "metadata": {},
          "execution_count": 11
        }
      ]
    },
    {
      "cell_type": "markdown",
      "source": [
        "# **Using Logistic Regression :**\n",
        "\n",
        "Logistic regression is a statistical analysis method to predict a binary outcome, such as yes or no, based on prior observations of a data set.\n",
        "\n",
        "Logistic regression essentially uses the sigmoid function defined below to model a binary output variable.\n",
        "\n",
        "sigmoid(z) = 1/ (1 + e<sup>-z</sup>)"
      ],
      "metadata": {
        "id": "daa2IfjUYEl2"
      }
    },
    {
      "cell_type": "markdown",
      "source": [
        "![image.png](data:image/png;base64,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)"
      ],
      "metadata": {
        "id": "-Iex0bPMpkz0"
      }
    },
    {
      "cell_type": "code",
      "source": [
        "from sklearn.linear_model import LogisticRegression\n",
        "logreg=LogisticRegression()\n",
        "logreg.fit(X_train,y_train)\n",
        "y_pred=logreg.predict(X_test)"
      ],
      "metadata": {
        "id": "QdJHGi4t_kWF"
      },
      "execution_count": null,
      "outputs": []
    },
    {
      "cell_type": "markdown",
      "source": [
        "# **Confusion_matrix :**\n",
        "The Confusion_matrix is a 2 x 2 matrix.\n",
        "Each element denotes the number of True Negatives (TN), False Positives (FP), False Negatives (FN) and True Positives (TP) respectively.\n",
        "\n",
        "![confusion_matrix.png](data:image/png;base64,iVBORw0KGgoAAAANSUhEUgAAATgAAAChCAMAAABkv1NnAAABO1BMVEX////88s/ssowAAAB+fn7a2tqenp6YmJjg4OCTk5P6+vpUVFTk5OT09PTp6envtI397Mnps43OoYLh2L3x6MrerIrquJLvxqH44Lv/+dWPiXnZ0baCZlTIm33Pz89bW1v/9MxDQ0Ourq7Hx8fetJg1IhHfo32Dg4Pvs4gMFxwPAADp0qyDaUm8vLwgICBzc3OwkYIvLy9NTU2aZUy7wbhra2u1tbU8PDwyMjJbSTRtVUXZ4NIlJSVRPzQAICtqX1Tp7NUcAAAWExCojW5UTkZoenSsclGQemRkRTJBLyfDnIVVQzhUZWBgY14ACxedn5OrpZHAwq6poIoeJjOrf2BTMx6hjXrGjGZzbF8nIxmGXUEsFwCffGYAEiCVgF6XYD+Dc2KTloksEQnaxaI1P0dzXT4zIhhgc2/EwKhBsGJMAAAH80lEQVR4nO3dC5eTRhgG4Ek+IFwCGC/pZt0OBnSxawGTSpJqrGvW+3rZttaq1dbWXvz/v6ADSbrZntPCjDscNn7vObskMYD7ZBiGCQOEYDDrGNrS1iUtp0o4A9YnapVwLYhU+Ymo9FXoStVwegVrUU356/DXEs6Wvw6KcGJBOMEgnGBqCGc7qy0kNaDRkX92/MIl8MM5pnN0h2IXLaKGcOHQ8w6f+aEa5K8GixfUceESysB5ltU+fDZQhzRf2/KFpOjjqSOcRsBJh7bhacS3PCPQiGL5s4EaeQmhw8QqXEIZuJndSnVWmCPfJDToq9Qmo4iCRqjvEHV0IuFSZdiGIIoD0MEODV/xU2KnIxNGE3+q+sPCJZSBi50kbIGhKZqnziLQxzQNfQqBOg7AgQBGBfPXES6hRJ+SUV9V20A0BtcK2aY1soFSGxx6PHBTzyCGQSwr0fyEDPW+CmzTZesbKGE0IOEJLHGKwf50IPY0GRJrOA391Jl5kRbrqWU5xnjcL1xCGThge6AwZMVbHdF4lJU4L/QdGAVT6tusxJ1AuH9iLn7mE/PIC/+bMnARe4/K/vaIVWlBFNiBw+o4ovqsjlNZHUfbBfPXGU44n2g77uODcIJBOMEgXBaqJEpQ/LbVIBxZdraHXPMIwKkDKD4iWU3d4VQAL7I4O/i54cyQfThe8ftWUnc4BWaE2AAGz0zccBr0x2sGN4Yk/821HXHDsYN9a73gzDgvax5MeOYS2TmsGRzbSFsE4RBOONx13DRviVhQ3CWyEoQjpJ/vFmK+hhzCERJmTbgIgOvYAeEIcVjLdAJQ3Ou7Gm64KJ7MYDaZcpyAVHc4QuOsUc8nwQ3nL05AKuq9XP1/1R2OkLbOeyYaN5ytz8MxywmA4w/2jggG4QSDcIJBOMEgnGAQTjAIJxiEEwzCCQbhBINwgkE4wVQBFyCcWAyEEwvCCaZyuCpWt4ZwGk/vtHCqKNWHRcAfWvIzgSrWUsU6Bv/ArdOo70pyCKfasmMa8Oic/Fw5Kz+bK3AVVA0t+NyVnuZGQ3p61cM15QfhEA7hEO7Y4Byei3x8snDJ/LQhe2VQYj/6j/ci3GHseKAzNapB1KZkZFKNkiHCFcNpmhaS2PcDaPseAUdTwbQQrhhurGlgAyHqjPgpgxsmoCNcMVwbggCC2NccUIOpDxQC0HFTLQFHCaE6q+NIEJCAUpOOAjPgOe3vE4X7+CAcwiHcmsG5nWWazc78pU4H4Yrd7j28mefhfffBzTed/JVH7vHDzbsl59NGbx3gbu7vA+zv37zfBABGdvkruHrscBe+znvBH/eu5NMnN048XLZhupe+uMgm2zszuNOVBff02cHBwbcMzjr4bh++35UN57SFvufj2jlcZnCMahtuXWJmkuC+2c23zytwt9c79TVckwtnW6xcDwS+kRWEew79rjS4xhKu0dsDrWQ1Jwg3YWyMjv8Lc0E49wd4Ia/E9XpLuC8ll7h8GCSdD16uBK77Iwy6knYOT16+vJXVcXcbZ7+Dt3LruBQGZDkGtxo49wG8kAQXv3o1e7bYq8K1sg0SMbh+fk2LNLskSDVwHXcb4i25m2p/c/Ngt3RDTgxuPlA+AagMrnn5NbySvXPolW//isGZs+rhmtu3QfpelSNiJW4CSiVwPz09hHO/WgO4YT7w3+McKc8N5z5/082mbx515s/OSYB7WyVcXtbYBst1pSh+uKbrHp2UdOM5yD97Zj49deYsj5sgXJBdm8zjGvsvBHdUsfxb69utlOSNHv7278fAle2MqzUciZJUETl5GHuABYNwCIdwCIdwCIdwCIdwCIdwCIdwCFdDOI7uIYRbhZPvtqZwa1jiVGJKDlvJ6a78bJySnsYqXOTITluB8/JLQ+OzjvR0t1bgKrhAQ6saOPm1gbtVdR2HcAiHcAhXY7jFrZxX7o9tAscQ6U8WLojHjEonSmo7pukQR0e4UnApBceOQ80aqsNIBUcJPYJwxXAmEMWILAYQEitSpyTxpljiSsCNJmEyDWJTbyXE8/2Bn6pgI1yJMfmUkMT2U+okgZP4hqmE7AfhygOIBuEQDuEQDuEQru5w2enY+TUOm8uLHa4D3GLMN3swP5G+/GnhZeHce9cX2XNfs99bV7tl6YThtIT/XH0uuAs/z1jgcW/j4SzM5Pbg22OH+yVbBcSz2bvtbAJwqysXTh0AjCXDfQnJ5ubLX3sbtyEbRdrbKz+0r3wd1+l0Ln1xkf3ehjvdzo+/lR68IwYXsI+H71axQnA3etm4tI2dV6zcSYJbDBhz3QzOde/BO6lwkdVOq4DLH2zs3L3OzGTCMYcMruk+lwxHsoFc1ZS4HO49/L4rtcTN4dztH+CFbLgqSpyyubl5rcfgen/AM7lwze2dwbutPzO9NYDLkuRwV+CbXdlwsLPz51b2sBRdreFu5A25DO7CGzD2Sl+hQQgO7lw81y3fAq43XP4gg2ts3H77Tm6JK7+Vnig4VsPNpMPxDO0Ug2sb2himWkvkgi1icI2NSxzXtuCCW45fv1P2oOEj4KJ/3QpCLhz8lYG9B0l13NZWLvb6PseAWPES18piyCxxjfMfFkf1H84ffX68cCvj13nk6tw7Ih7sj0M4hEM4hEM4hEM4hEM4hEM4hEM4hEM4hEO4EwBXzbBLrmt4CsLJv/ntEbjAaUuOE8KHM/Jz8bT8XMebb4tmCRcpGJ4kPDdyw2AwmBOZvwGYYui1hZPJWQAAAABJRU5ErkJggg==)"
      ],
      "metadata": {
        "id": "doCkzffR940t"
      }
    },
    {
      "cell_type": "code",
      "source": [
        "from sklearn import metrics\n",
        "cnf=metrics.confusion_matrix(y_test,y_pred)\n",
        "cnf"
      ],
      "metadata": {
        "id": "z37mhdZeAsqk",
        "colab": {
          "base_uri": "https://localhost:8080/"
        },
        "outputId": "270cdcbf-da5b-4946-b5b0-fc07d9d9d2b4"
      },
      "execution_count": null,
      "outputs": [
        {
          "output_type": "execute_result",
          "data": {
            "text/plain": [
              "array([[131,  19],\n",
              "       [ 40,  41]])"
            ]
          },
          "metadata": {},
          "execution_count": 13
        }
      ]
    },
    {
      "cell_type": "markdown",
      "source": [
        "# **Accuracy :**  \n",
        "The ratio of correctly predicted observations to the total observations.\n",
        "# **Precision :**\n",
        "The ratio of correctly predicted positive observations to the total predicted positive observations.\n",
        "\n",
        "# **Recall :**\n",
        "The ratio of correctly predicted positive observations to the all observations in actual class (true positives and true negatives)."
      ],
      "metadata": {
        "id": "5l7zhq6r0QTr"
      }
    },
    {
      "cell_type": "code",
      "source": [
        "tn=cnf[0][0]\n",
        "tp=cnf[1][1]\n",
        "fn=cnf[1][0]\n",
        "fp=cnf[0][1]\n",
        "accuracy=(tn+tp)/(tn+tp+fp+fn)\n",
        "precision=tp/(tp+fp)\n",
        "recall=tp/(tp+fn)"
      ],
      "metadata": {
        "id": "L_i4xxPHBVt4"
      },
      "execution_count": null,
      "outputs": []
    },
    {
      "cell_type": "code",
      "source": [
        "print(\"accuracy\",accuracy,\"\\n\")\n",
        "print(\"precision\",precision,\"\\n\")\n",
        "print(\"recall\",recall,\"\\n\")"
      ],
      "metadata": {
        "id": "R6Zx3KmoW2uC",
        "colab": {
          "base_uri": "https://localhost:8080/"
        },
        "outputId": "aaee6e03-6ac7-4bcd-d6eb-ce646ff59da0"
      },
      "execution_count": null,
      "outputs": [
        {
          "output_type": "stream",
          "name": "stdout",
          "text": [
            "accuracy 0.7445887445887446 \n",
            "\n",
            "precision 0.6833333333333333 \n",
            "\n",
            "recall 0.5061728395061729 \n",
            "\n"
          ]
        }
      ]
    },
    {
      "cell_type": "markdown",
      "source": [
        " # Displaying accuracy, precision and recall using in-built functions\n",
        "\n",
        "\n",
        "\n",
        "*   **F1 score** is the harmonic mean between precision and recall\n",
        "*   **Misclassifictions** are the outputs which were wrongly predicted by the moel.\n",
        "\n"
      ],
      "metadata": {
        "id": "nBiqZiWFY1Rg"
      }
    },
    {
      "cell_type": "code",
      "source": [
        "print(\"accuracy\",metrics.accuracy_score(y_test,y_pred),\"\\n\")\n",
        "print(\"precision\",metrics.precision_score(y_test,y_pred),\"\\n\")\n",
        "print(\"recall\",metrics.recall_score(y_test,y_pred),\"\\n\")\n",
        "print(\"F1 score\",2*(precision*recall)/(precision+recall))\n",
        "print(\"misclassifications\",fp+fn)"
      ],
      "metadata": {
        "id": "USkTbnpnXQU8",
        "colab": {
          "base_uri": "https://localhost:8080/"
        },
        "outputId": "cd9d3684-e634-490f-d083-b0a32dbcee05"
      },
      "execution_count": null,
      "outputs": [
        {
          "output_type": "stream",
          "name": "stdout",
          "text": [
            "accuracy 0.7445887445887446 \n",
            "\n",
            "precision 0.6833333333333333 \n",
            "\n",
            "recall 0.5061728395061729 \n",
            "\n",
            "F1 score 0.5815602836879433\n",
            "misclassifications 59\n"
          ]
        }
      ]
    },
    {
      "cell_type": "markdown",
      "source": [
        "# **Using SVM :**"
      ],
      "metadata": {
        "id": "5cEBx7zrYr4v"
      }
    },
    {
      "cell_type": "markdown",
      "source": [
        "# Scikit Learn's in - built SVM model is used with a linear kernel"
      ],
      "metadata": {
        "id": "YmemT8PjSetK"
      }
    },
    {
      "cell_type": "code",
      "source": [
        "from sklearn import svm\n",
        "sv=svm.SVC(kernel='linear')\n",
        "sv.fit(X_train,y_train)\n",
        "y_pred=sv.predict(X_test)"
      ],
      "metadata": {
        "id": "KK7UczzSc-q0"
      },
      "execution_count": null,
      "outputs": []
    },
    {
      "cell_type": "code",
      "source": [
        "cnf=metrics.confusion_matrix(y_test,y_pred)\n",
        "cnf"
      ],
      "metadata": {
        "id": "gRUJw1xJdnYa",
        "colab": {
          "base_uri": "https://localhost:8080/"
        },
        "outputId": "df69c9f9-48d0-457e-bafd-22186643e384"
      },
      "execution_count": null,
      "outputs": [
        {
          "output_type": "execute_result",
          "data": {
            "text/plain": [
              "array([[133,  17],\n",
              "       [ 38,  43]])"
            ]
          },
          "metadata": {},
          "execution_count": 23
        }
      ]
    },
    {
      "cell_type": "code",
      "source": [
        "print(\"accuracy\",metrics.accuracy_score(y_test,y_pred))\n",
        "print(\"precision\",metrics.precision_score(y_test,y_pred))\n",
        "print(\"recall\",metrics.recall_score(y_test,y_pred))"
      ],
      "metadata": {
        "id": "L5G3s-uFd-kd",
        "colab": {
          "base_uri": "https://localhost:8080/"
        },
        "outputId": "7f5c7cd6-ada6-422b-9b71-b17e02844f7b"
      },
      "execution_count": null,
      "outputs": [
        {
          "output_type": "stream",
          "name": "stdout",
          "text": [
            "accuracy 0.7619047619047619\n",
            "precision 0.7166666666666667\n",
            "recall 0.5308641975308642\n"
          ]
        }
      ]
    },
    {
      "cell_type": "markdown",
      "source": [
        "# **The Performance of both models on the dataset is as follows :**\n",
        "**Logistic Regression :** \n",
        "- accuracy = 74.46 %\n",
        "\n",
        "- precision = 68.33 %\n",
        "\n",
        "- recall = 50.62 % \n",
        "\n",
        "**SVM :** \n",
        "- accuracy = 76.19 %\n",
        "\n",
        "- precision = 71.67 %\n",
        "\n",
        "- recall = 53.09 % \n"
      ],
      "metadata": {
        "id": "_4RA-Nd6ZtVF"
      }
    },
    {
      "cell_type": "markdown",
      "source": [
        "While predicting whether a person has diabetes or not, it is more dangerous to tell a person who actually has diabetes that he doesn't have diabetes rather than to tell a person who doesn't have diabetes that he does.\n",
        "\n",
        "Hence rather than improving accuracy, the main task is actually to reduce false negatives (increase recall) ."
      ],
      "metadata": {
        "id": "alQ305ZvWZzi"
      }
    }
  ]
}